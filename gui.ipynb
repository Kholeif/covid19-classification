{
 "cells": [
  {
   "cell_type": "code",
   "execution_count": 1,
   "metadata": {
    "scrolled": false
   },
   "outputs": [
    {
     "name": "stderr",
     "output_type": "stream",
     "text": [
      "C:\\Users\\Mahmoud Kholief\\AppData\\Roaming\\Python\\Python37\\site-packages\\requests\\__init__.py:91: RequestsDependencyWarning: urllib3 (1.26.2) or chardet (3.0.4) doesn't match a supported version!\n",
      "  RequestsDependencyWarning)\n"
     ]
    },
    {
     "name": "stdout",
     "output_type": "stream",
     "text": [
      "C:/Users/Mahmoud Kholief/Desktop/futureeee/lallo.jpg\n",
      "Probability Positive: 63.75\n",
      "Probability Negative: 36.25\n",
      "Time:  2.56625\n"
     ]
    },
    {
     "ename": "SystemExit",
     "evalue": "0",
     "output_type": "error",
     "traceback": [
      "An exception has occurred, use %tb to see the full traceback.\n",
      "\u001b[1;31mSystemExit\u001b[0m\u001b[1;31m:\u001b[0m 0\n"
     ]
    },
    {
     "name": "stderr",
     "output_type": "stream",
     "text": [
      "D:\\anaconda\\lib\\site-packages\\IPython\\core\\interactiveshell.py:3426: UserWarning: To exit: use 'exit', 'quit', or Ctrl-D.\n",
      "  warn(\"To exit: use 'exit', 'quit', or Ctrl-D.\", stacklevel=1)\n"
     ]
    }
   ],
   "source": [
    "import sys\n",
    "from PyQt5.QtWidgets import QMainWindow, QApplication, QWidget, QInputDialog, QLineEdit, QFileDialog,QLabel\n",
    "from PyQt5 import QtCore, QtGui, QtWidgets\n",
    "from PyQt5.QtGui import QIcon , QPixmap\n",
    "import cv2\n",
    "import numpy as np\n",
    "import imutils\n",
    "import timeit\n",
    "import tensorflow as tf\n",
    "\n",
    "\n",
    "\n",
    "new_model = tf.keras.models.load_model('covid19.model')\n",
    "\n",
    "\n",
    "class Ui_MainWindow(object):\n",
    "    def setupUi(self, MainWindow):\n",
    "        MainWindow.setObjectName(\"MainWindow\")\n",
    "        MainWindow.resize(589, 421)\n",
    "        self.centralwidget = QtWidgets.QWidget(MainWindow)\n",
    "        self.centralwidget.setObjectName(\"centralwidget\")\n",
    "        self.Button1 = QtWidgets.QPushButton(self.centralwidget)\n",
    "        self.Button1.setGeometry(QtCore.QRect(160, 280, 131, 81))\n",
    "        self.Button1.setObjectName(\"Button1\")\n",
    "        self.Button2 = QtWidgets.QPushButton(self.centralwidget)\n",
    "        self.Button2.setGeometry(QtCore.QRect(310, 280, 131, 81))\n",
    "        self.Button2.setObjectName(\"Button2\")\n",
    "        self.photo = QtWidgets.QLabel(self.centralwidget)\n",
    "        self.photo.setGeometry(QtCore.QRect(0, 0, 590, 230))\n",
    "        self.photo.setText(\"\")\n",
    "        self.photo.setPixmap(QtGui.QPixmap(\"uu.png\"))\n",
    "        self.photo.setScaledContents(True)\n",
    "        self.photo.setObjectName(\"photo\")\n",
    "        MainWindow.setCentralWidget(self.centralwidget)\n",
    "        self.menubar = QtWidgets.QMenuBar(MainWindow)\n",
    "        self.menubar.setGeometry(QtCore.QRect(0, 0, 589, 20))\n",
    "        self.menubar.setObjectName(\"menubar\")\n",
    "        MainWindow.setMenuBar(self.menubar)\n",
    "        self.statusbar = QtWidgets.QStatusBar(MainWindow)\n",
    "        self.statusbar.setObjectName(\"statusbar\")\n",
    "        MainWindow.setStatusBar(self.statusbar)\n",
    "\n",
    "        self.retranslateUi(MainWindow)\n",
    "        QtCore.QMetaObject.connectSlotsByName(MainWindow)\n",
    "\n",
    "    def retranslateUi(self, MainWindow):\n",
    "        _translate = QtCore.QCoreApplication.translate\n",
    "        MainWindow.setWindowTitle(_translate(\"MainWindow\", \"MainWindow\"))\n",
    "        self.Button1.setText(_translate(\"MainWindow\", \"select image\"))\n",
    "        self.Button2.setText(_translate(\"MainWindow\", \"classify\"))\n",
    "    \n",
    "\n",
    "\n",
    "\n",
    "\n",
    "\n",
    "class Widget(QtWidgets.QWidget, Ui_MainWindow):\n",
    "\n",
    "    def __init__(self, MainWindow):\n",
    "        QtWidgets.QWidget.__init__(self)\n",
    "        self.setupUi(MainWindow)\n",
    "        self.Button1.clicked.connect(self.openFile)\n",
    "        self.Button2.clicked.connect(self.detection)\n",
    "\n",
    "\n",
    "    def detection(self, MainWindow):\n",
    "        start = timeit.default_timer()\n",
    "        data = []\n",
    "        image_path = self.fileName\n",
    "        print(image_path)\n",
    "        image = cv2.imread(image_path)\n",
    "        image2 = image.copy()\n",
    "        image2 = imutils.resize(image2 , width=800)\n",
    "        \n",
    "        image = cv2.cvtColor(image, cv2.COLOR_BGR2RGB)\n",
    "        #image = cv.cvtColor(frame, cv.COLOR_BGR2GRAY)\n",
    "        image = cv2.resize(image, (224, 224))\n",
    "        data.append(image)\n",
    "        data = np.array(data)\n",
    "#         data = np.array(data) / 255.0\n",
    "        \n",
    "        predIdxs = new_model.predict(data)\n",
    "        prob_positive = predIdxs[0][1] * 100;\n",
    "        prob_negative = predIdxs[0][0] * 100;\n",
    "        print(\"Probability Positive: %.2f\" %  prob_positive)\n",
    "        print(\"Probability Negative: %.2f\" %  prob_negative)\n",
    "        stop = timeit.default_timer()\n",
    "        print('Time: ', stop - start)\n",
    "\n",
    "\n",
    "        if (prob_positive > prob_negative):\n",
    "            cv2.putText(image2,\"positive : \"+str(prob_positive),(5, 30),cv2.FONT_HERSHEY_SIMPLEX, 1, (0, 0, 255), 2)\n",
    "        else:\n",
    "            cv2.putText(image2,\"negative : \"+str(prob_negative),(5, 30),cv2.FONT_HERSHEY_SIMPLEX, 1, (0, 255, 0), 2)\n",
    "\n",
    "        \n",
    "        cv2.imshow(\"image after classification\",image2)\n",
    "        cv2.waitKey()\n",
    "        cv2.destroyAllWindows()\n",
    "        \n",
    "        \n",
    "        \n",
    "        \n",
    "    def openFile(self):   \n",
    "        self.fileName, _ = QFileDialog.getOpenFileName(self, \"Upload image\",\".\", \"images Files (*.png *.jpg *.jpeg *.mp4 *.flv *.ts *.mts *.avi *.MOV)\")\n",
    "\n",
    "\n",
    "\n",
    "if __name__ == \"__main__\":\n",
    "    app = QtWidgets.QApplication(sys.argv)\n",
    "    MainWindow = QtWidgets.QMainWindow()\n",
    "    ui = Widget(MainWindow)\n",
    "    MainWindow.show()\n",
    "    sys.exit(app.exec_())\n"
   ]
  },
  {
   "cell_type": "code",
   "execution_count": null,
   "metadata": {},
   "outputs": [],
   "source": []
  }
 ],
 "metadata": {
  "kernelspec": {
   "display_name": "Python 3",
   "language": "python",
   "name": "python3"
  },
  "language_info": {
   "codemirror_mode": {
    "name": "ipython",
    "version": 3
   },
   "file_extension": ".py",
   "mimetype": "text/x-python",
   "name": "python",
   "nbconvert_exporter": "python",
   "pygments_lexer": "ipython3",
   "version": "3.7.9"
  }
 },
 "nbformat": 4,
 "nbformat_minor": 4
}
